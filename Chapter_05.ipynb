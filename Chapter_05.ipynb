{
 "cells": [
  {
   "cell_type": "markdown",
   "metadata": {},
   "source": [
    "# 데이터 분석을 위한 SQL 레시피"
   ]
  },
  {
   "cell_type": "markdown",
   "metadata": {},
   "source": [
    "## 5장 사용자를 파악하기 위한 데이터 추출"
   ]
  },
  {
   "cell_type": "markdown",
   "metadata": {},
   "source": [
    "### 11강 사용자 전체의 특징과 경향 찾기"
   ]
  },
  {
   "cell_type": "markdown",
   "metadata": {},
   "source": [
    "#### 1 사용자의 액션 수 집계하기"
   ]
  },
  {
   "cell_type": "markdown",
   "metadata": {},
   "source": [
    "#### 2 연령별 구분 집계하기"
   ]
  },
  {
   "cell_type": "markdown",
   "metadata": {},
   "source": [
    "#### 3 연령별 구분의 특징 추출하기"
   ]
  },
  {
   "cell_type": "markdown",
   "metadata": {},
   "source": [
    "#### 4 사용자의 방문 빈도 집계하기"
   ]
  },
  {
   "cell_type": "markdown",
   "metadata": {},
   "source": [
    "- 7일간 유저의 데이터를, 몇일간 방문했나 분석"
   ]
  },
  {
   "cell_type": "markdown",
   "metadata": {},
   "source": [
    "#### 5 벤 다이어그램으로 사용자 액션 집계하기"
   ]
  },
  {
   "cell_type": "markdown",
   "metadata": {},
   "source": [
    "- CASE 함수를 사용하여 유저 별로 행동을 1,0으로 구분하여 벤다이어그램으로 표시"
   ]
  },
  {
   "cell_type": "markdown",
   "metadata": {},
   "source": [
    "#### 6 Decile 분석을 사용해 사용자를 10단계 그룹으로 나누기"
   ]
  },
  {
   "cell_type": "raw",
   "metadata": {},
   "source": [
    "Decile 분석 :\n",
    "1) 사용자를 구매 금액이 많은 순으로 정렬\n",
    "2) 정렬된 사용자 상위 부터 10%씩 Decile 1부터 Decile 10까지의 그룹을 할당\n",
    "3) 각 그룹의 구매 금액 합계를 집계\n",
    "4) 전체 구매 금액에 대해 각 Decile의 구매 금액 비율(구성비)를 계산\n",
    "5) 상위에서 누적으로 어느 정도의 비율을 차지하는지 구성비누계를 집계"
   ]
  },
  {
   "cell_type": "markdown",
   "metadata": {},
   "source": [
    "#### 7 RFM 분석으로 사용자를 3가지 관점의 그룹으로 나누기"
   ]
  },
  {
   "cell_type": "raw",
   "metadata": {},
   "source": [
    "- Recency : 최근 구매일\n",
    "- Frquency : 구매횟수\n",
    "- Monetary : 구매 금액 합계\n",
    "\n",
    "3개 지표를 각 5개 그룹으로 나누는 것이 일반적.\n"
   ]
  },
  {
   "cell_type": "markdown",
   "metadata": {},
   "source": [
    "## 12강 시계열에 따른 사용자 전체의 상태 변화 찾기"
   ]
  },
  {
   "cell_type": "markdown",
   "metadata": {},
   "source": [
    "#### 1 등록 수의 추이와 경향 보기"
   ]
  },
  {
   "cell_type": "markdown",
   "metadata": {},
   "source": [
    "#### 2 지속률과 정착률 산출하기"
   ]
  },
  {
   "cell_type": "markdown",
   "metadata": {},
   "source": [
    "#### 3 지속과 정착에 영향을 주는 액션 집계하기"
   ]
  },
  {
   "cell_type": "markdown",
   "metadata": {},
   "source": [
    "#### 4 액션 수에 따른 정착률 집계하기"
   ]
  },
  {
   "cell_type": "markdown",
   "metadata": {},
   "source": [
    "#### 5 사용 일수에 따른 정착률 집계하기"
   ]
  },
  {
   "cell_type": "markdown",
   "metadata": {},
   "source": [
    "#### 6 사용자의 잔존율 집계하기"
   ]
  },
  {
   "cell_type": "markdown",
   "metadata": {},
   "source": [
    "#### 7 방문 빈도를 기반으로 사용자 속성을 정의하고 집계하기"
   ]
  },
  {
   "cell_type": "raw",
   "metadata": {},
   "source": [
    "MAU 를 아래의 유저로 분석\n",
    "- 신규사용자\n",
    "- 리피트 사용자\n",
    "- 컴백 사용자"
   ]
  },
  {
   "cell_type": "markdown",
   "metadata": {},
   "source": [
    "#### 8 방문 종류를 기반으로 성장지수 집계하기"
   ]
  },
  {
   "cell_type": "markdown",
   "metadata": {},
   "source": [
    "#### 9 지표 개선 방법 익히기"
   ]
  },
  {
   "cell_type": "raw",
   "metadata": {},
   "source": [
    "지표를 향상시키려면,\n",
    "1) 달성하고 싶은 (높이고 싶은) 지표를 결정\n",
    "2) 사용자 행동 중에서 지표에 영향을 많이 줄 것으로 보이는 행동을 결정\n",
    "3) 2)에서 결정한 행동 여부와 횟수를 집계하고, 1)에서 결정한 지표를 만족하는 사용자의 비율로 비교"
   ]
  },
  {
   "cell_type": "markdown",
   "metadata": {},
   "source": [
    "## 13강 시계열에 따른 사용자의 개별적인 행동 분석하기"
   ]
  },
  {
   "cell_type": "markdown",
   "metadata": {},
   "source": [
    "#### 1 사용자의 액션 간격 집계하기"
   ]
  },
  {
   "cell_type": "markdown",
   "metadata": {},
   "source": [
    "#### 2 카트 추가 후에 구매했는지 파악하기"
   ]
  },
  {
   "cell_type": "markdown",
   "metadata": {},
   "source": [
    "#### 3 등록으로부터의 매출을 날짜별로 집계하기"
   ]
  },
  {
   "cell_type": "raw",
   "metadata": {},
   "source": [
    "LTV(고객 생애 가치)\n",
    "LTV = 연간 거래액 x 수익률 x 지속 연수(채류기간)"
   ]
  }
 ],
 "metadata": {
  "kernelspec": {
   "display_name": "Python 3",
   "language": "python",
   "name": "python3"
  },
  "language_info": {
   "codemirror_mode": {
    "name": "ipython",
    "version": 3
   },
   "file_extension": ".py",
   "mimetype": "text/x-python",
   "name": "python",
   "nbconvert_exporter": "python",
   "pygments_lexer": "ipython3",
   "version": "3.6.5"
  }
 },
 "nbformat": 4,
 "nbformat_minor": 2
}
