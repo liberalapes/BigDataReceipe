{
 "cells": [
  {
   "cell_type": "markdown",
   "metadata": {},
   "source": [
    "# 데이터 분석을 위한 SQL 레시피"
   ]
  },
  {
   "cell_type": "markdown",
   "metadata": {},
   "source": [
    "## 1장 빅데이터 시대에 요구되는 분석력이란?"
   ]
  },
  {
   "cell_type": "markdown",
   "metadata": {},
   "source": [
    "### 1강 데이터를 둘러싼 환경의 변화"
   ]
  },
  {
   "cell_type": "markdown",
   "metadata": {},
   "source": [
    "#### 1 접근 분석 도구의 등장"
   ]
  },
  {
   "cell_type": "markdown",
   "metadata": {},
   "source": [
    "#### 2 빅데이터의 등장"
   ]
  },
  {
   "cell_type": "markdown",
   "metadata": {},
   "source": [
    "- 기억 용량의 대용량화<br>\n",
    "- 하드웨어 가격의 하락과 클라우드 기술의 등장<br>\n",
    "- 분산 처리를 담당하는 미들웨어의 등장<br>"
   ]
  },
  {
   "cell_type": "markdown",
   "metadata": {},
   "source": [
    "- 개별적인 사용자의 행동파악 <br>\n",
    "- 사용자의 흥미와 기호를 기반으로 하는 추천<br>\n",
    "- 광고 타깃팅<br>\n",
    "- 예측 모델링<br>\n",
    "- 기계 학습<br>"
   ]
  },
  {
   "cell_type": "markdown",
   "metadata": {},
   "source": [
    "### 2강 여러 가지 과제"
   ]
  },
  {
   "cell_type": "markdown",
   "metadata": {},
   "source": [
    "#### 1 분석 담당자의 과제"
   ]
  },
  {
   "cell_type": "markdown",
   "metadata": {},
   "source": [
    "- 접근 해석 기술을 보유하고 있는 분석 담당자가 빅데이터 분석 기반을 다룰 때의 문제점<br>\n",
    "1) 지금까지 지표를 도구가 제공해주었지만 이제 스스로 지표를 결정해야 함<br>\n",
    "2) 데이터를 추출할 때 SQL을 사용해야 하므로 SQL을 배워야 함<br>\n",
    "3) SQL을 배우지 않은 상태에서는 무엇을 집계할 수 있는지 자체를 생각할 수 없음<br>\n",
    "4) 리포트를 만들 때 필요한 데이터와 도구가 갖추어져 있도라도 SQL을 모르면 리포트를 만들 수 없음<br>\n",
    "5) 리포트 작성보다도 SQL을 사용하면 겪는 시행착오에 시간이 더 오래 걸려서 리포트의 품질을 담보할 수 없게 됨<br>"
   ]
  },
  {
   "cell_type": "markdown",
   "metadata": {},
   "source": [
    "- BI 도구의 도입시 문제 점<br>\n",
    "1) 기존에 할 수 없었던 수준의 복잡한 집계와 분석을 하려 해도 BI 도구로는 만족할 수 수준에 이르지 못함<br>\n",
    "2) 회사 DB에 저장된 여러 테이블 또는 관계(Relationship) 파악이 늦어질 수 있음<br>\n",
    "3) BI 도구에서 사용할 초기 데이터 준비에 SQL이 필요한 경우가 있음<br>"
   ]
  },
  {
   "cell_type": "markdown",
   "metadata": {},
   "source": [
    "#### 2 엔지니어의 과제"
   ]
  },
  {
   "cell_type": "markdown",
   "metadata": {},
   "source": [
    "- 기존 분석 담당자가 빅데이터 처리시 겪은 문제 <br>\n",
    "1) 리포팅 방법과 분석 노하우가 없으면 단순한 집계밖에 제공할 수 없으므로 기존의 접근 해석 도구의 수준을 벗어날 수 없음 <br>\n",
    "2) 분석 담당자 또는 경영층이 어떤 리포트를 원하는지, 어떤 과제를 해결하고 싶어 하는지 잘 모를 수 있음 <br>\n",
    "3) 분석에 특화된 SQL을 모르므로 간단한 데이터 추출에도 고생하는 경우가 많음<br>"
   ]
  },
  {
   "cell_type": "markdown",
   "metadata": {},
   "source": [
    "- 엔지니어에게 맡기는 경우 발생하는 문제<br>\n",
    "1) 분석 담당자가 요구한 데이터를 추출하더라도 이후에 비슷한 의뢰를 할 때마다 계속해서 비슷한 SQL을 만들어줘야 함<br>\n",
    "2) 분석 담당자도 무엇이 가능한지 몰라 애매모호한 의뢰를 하게 되므로 최종적인 결과물로 원하는 것이 나오지 않아 의뢰를 받게 되는 경우가 발생함<br>"
   ]
  },
  {
   "cell_type": "markdown",
   "metadata": {},
   "source": [
    "#### 3 분석 담당자와 엔지니어의 이해관계"
   ]
  },
  {
   "cell_type": "code",
   "execution_count": null,
   "metadata": {},
   "outputs": [],
   "source": []
  }
 ],
 "metadata": {
  "kernelspec": {
   "display_name": "Python 3",
   "language": "python",
   "name": "python3"
  },
  "language_info": {
   "codemirror_mode": {
    "name": "ipython",
    "version": 3
   },
   "file_extension": ".py",
   "mimetype": "text/x-python",
   "name": "python",
   "nbconvert_exporter": "python",
   "pygments_lexer": "ipython3",
   "version": "3.6.5"
  }
 },
 "nbformat": 4,
 "nbformat_minor": 2
}
