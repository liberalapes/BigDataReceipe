{
 "cells": [
  {
   "cell_type": "markdown",
   "metadata": {},
   "source": [
    "# 데이터 분석을 위한 SQL 레시피"
   ]
  },
  {
   "cell_type": "markdown",
   "metadata": {},
   "source": [
    "## 3장 데이터 가공을 위한 SQL"
   ]
  },
  {
   "cell_type": "markdown",
   "metadata": {},
   "source": [
    "- 데이터를 가공해야 하는 이유<br>\n",
    "1) 다를 데이터가 데이터 분석용도로 상정되지 않은 경우<br>\n",
    "2) 연산할 때 비교가능한 상태로 만들고 오류를 회피하기 위한 경우<br>"
   ]
  },
  {
   "cell_type": "markdown",
   "metadata": {},
   "source": [
    "### 5강 하나의 값 조작하기"
   ]
  },
  {
   "cell_type": "markdown",
   "metadata": {},
   "source": [
    "#### 1 코드 값을 레이블로 변경하기"
   ]
  },
  {
   "cell_type": "raw",
   "metadata": {},
   "source": [
    "CASE expression\n",
    "    WHEN condition1 THEN result1\n",
    "    WHEN condition2 THEN result2\n",
    "   ...\n",
    "    WHEN conditionN THEN resultN\n",
    "    ELSE result\n",
    "END"
   ]
  },
  {
   "cell_type": "markdown",
   "metadata": {},
   "source": [
    "#### 2 URL에서 요소 추출하기"
   ]
  },
  {
   "cell_type": "markdown",
   "metadata": {},
   "source": [
    "- 레퍼로 어떤 웹 페이지를 거쳐 넘어왔는지 판별하기\n",
    "- URL에서 경로와 요청 매개변수 값 추출하기"
   ]
  },
  {
   "cell_type": "markdown",
   "metadata": {},
   "source": [
    "- 데이터에서 URL 을 parsing 시 <br>\n",
    "PostgreSQL : substring  함수 + 정규식 표현<br>\n",
    "Hive : parse_url 함수<br>\n",
    "SparkSQL : parse_url 함수<br>\n",
    "Redshift : regexp_sybstr 함수와 regexp_replace 함수<br>\n",
    "BigQuery : host 함수<br>"
   ]
  },
  {
   "cell_type": "markdown",
   "metadata": {},
   "source": [
    "#### 3 문자열을 배열로 분해하기"
   ]
  },
  {
   "cell_type": "markdown",
   "metadata": {},
   "source": [
    "- 데이터에서 URL 을 parsing 시 <br>\n",
    "PostgreSQL : split_part<br>\n",
    "Redshift : split_part<br>\n",
    "Hive : split 함수<br>\n",
    "SparkSQL : split 함수<br>\n",
    "BigQuery : split 함수<br>\n",
    "mySQL : SUBSTRING_INDEX, LEFT, RIGHT 함수를 조합<br>"
   ]
  },
  {
   "cell_type": "markdown",
   "metadata": {},
   "source": [
    "#### 4 날짜와 타임스탬프 다루기"
   ]
  },
  {
   "cell_type": "markdown",
   "metadata": {},
   "source": [
    "- 데이터에서 시간 추출 <br>\n",
    "PostgreSQL : CURRENT_DATE 상수 + SURRENT_TIMESTAMP  사용 <br>\n",
    "Redshift : CURRENT_DATE, GERDATE() 사용\n",
    "Hive : CURRENT_DATE  + SURRENT_TIMESTAMP  사용 <br>\n",
    "SparkSQL : CURRENT_DATE  + SURRENT_TIMESTAMP  사용 <br>\n",
    "BigQuery : CURRENT_DATE  + SURRENT_TIMESTAMP  사용 <br>\n",
    "mySQL : CURRENT_DATE, CURRENT_TIME, CURRENT_TIMESTAMP 사용<br>"
   ]
  },
  {
   "cell_type": "markdown",
   "metadata": {},
   "source": [
    "- 문자열을 날짜/타임스탬프로 변환 <br>\n",
    "PostgreSQL : CAST(value as type) <br>\n",
    "Redshift : CAST(value as type)<br>\n",
    "Hive : CAST(value as type) <br>\n",
    "SparkSQL : CAST(value as type)<br>\n",
    "BigQuery : CAST(value as type)<br>\n",
    "mySQL : STR_TO_DATE('2018-06-18 20:59:59','%Y-%m-%d %H:%i:%s')"
   ]
  },
  {
   "cell_type": "markdown",
   "metadata": {},
   "source": [
    "- 날짜/시각에서 특정 필드 추출 <br>\n",
    "PostgreSQL : EXTRACT(YEAR FROM stamp) as YYYY<br>\n",
    "Redshift : EXTRACT(YEAR FROM stamp) as YYYY<br>\n",
    "Hive : YEAR(stamp) as YYYY <br>\n",
    "SparkSQL : YEAR(stamp) as YYYY<br>\n",
    "BigQuery : EXTRACT(YEAR FROM stamp) as YYYY<br>\n",
    "mySQL : YEAR(stamp) as YYYY"
   ]
  },
  {
   "cell_type": "markdown",
   "metadata": {},
   "source": [
    "#### 5 결손 값을 디폴트 값으로 대치하기"
   ]
  },
  {
   "cell_type": "raw",
   "metadata": {},
   "source": [
    "select \n",
    "    `purchase_id`,\n",
    "    `amount`,\n",
    "    `coupon`, \n",
    "    `amount` - `coupon` as discount_amount1, \n",
    "    `amount`- COALESCE(`coupon`, 0) as discount_amount2 \n",
    "from purchase_log_with_coupon ;\n",
    "\n",
    "cf. mysql 에서는 ifnull 도 사용가능"
   ]
  },
  {
   "cell_type": "markdown",
   "metadata": {},
   "source": [
    "### 6강 여러 개의 값에 대한 조작"
   ]
  },
  {
   "cell_type": "markdown",
   "metadata": {},
   "source": [
    "#### 1 문자열 연결하기"
   ]
  },
  {
   "cell_type": "markdown",
   "metadata": {},
   "source": [
    "CONCAT 함수 사용<br>\n",
    "<br>\n",
    "PostgreSQL : || 사용가능<br>\n",
    "Redshift : || 사용가능<br>"
   ]
  },
  {
   "cell_type": "markdown",
   "metadata": {},
   "source": [
    "#### 2 여러 개의 값 비교하기"
   ]
  },
  {
   "cell_type": "raw",
   "metadata": {},
   "source": [
    "data>\n",
    "year\tq1\tq2\tq3\tq4\n",
    "2015\t82000\t83000\t78000\t83000\n",
    "2016\t85000\t85000\t80000\t81000\n",
    "2017\t92000\t81000\tNULL\tNULL"
   ]
  },
  {
   "cell_type": "raw",
   "metadata": {},
   "source": [
    "# 분기별 매출 증감 판정하기\n",
    "\n",
    "select \n",
    "    year, \n",
    "    q1, \n",
    "    q2, \n",
    "    case \n",
    "        when q1<q2 then '+'\n",
    "        when q1=q2 then ' '\n",
    "        else '-' end \n",
    "            as judge_q1_q2, \n",
    "       q2-q1 as diff_q1_q2,\n",
    "    sign(q2-q1) as sign_q2_q1   \n",
    "from `quarterly_sales`;\n",
    "\n",
    "*mySQL도 공통"
   ]
  },
  {
   "cell_type": "raw",
   "metadata": {},
   "source": [
    "# 연간 최대/최소 4분기 매출 찾기\n",
    "select \n",
    "    year,\n",
    "    GREATEST(q1,q2,q3,q4) as greatest_sales,\n",
    "    LEAST(q1,q2,q3,q4) as least_sales\n",
    "from `quarterly_sales`;\n",
    "\n",
    "*mySQL은 null 값이 포함된 경우 null 이 표시."
   ]
  },
  {
   "cell_type": "raw",
   "metadata": {},
   "source": [
    "# 연간 평균 4분기 매출 계산하기\n",
    "\n",
    "select \n",
    "    year,\n",
    "    (q1+q2+q3+q4) / 4 as average\n",
    "from quarterly_sales ;\n",
    "\n",
    "* NULL 값 포함시 NULL 로 결과 표시. 아래와 같이 NULL값을 대치하여 계산.\n",
    "\n",
    "select \n",
    "    year,\n",
    "    (coalesce(q1,0)\n",
    "    +coalesce(q2,0)\n",
    "    +coalesce(q3,0)\n",
    "    +coalesce(q4,0)) / 4 as average\n",
    "from quarterly_sales ;\n",
    "\n",
    "* NULL 값은 포함하지 않은 평균을 구할 경우는 SIGN을 추가 사용.\n",
    "select \n",
    "    year,\n",
    "    (coalesce(q1,0)\n",
    "    +coalesce(q2,0)\n",
    "    +coalesce(q3,0)\n",
    "    +coalesce(q4,0)) / \n",
    "    (SIGN(coalesce(q1,0))\n",
    "    +SIGN(coalesce(q2,0))\n",
    "    +SIGN(coalesce(q3,0))\n",
    "    +SIGN(coalesce(q4,0))) as average\n",
    "from quarterly_sales ;"
   ]
  },
  {
   "cell_type": "markdown",
   "metadata": {},
   "source": [
    "#### 3 2개의 값 비율 계산하기"
   ]
  },
  {
   "cell_type": "markdown",
   "metadata": {},
   "source": [
    "- 정수 자료형의 데이터 나누기 <br>\n",
    "PostgreSQL : CAST를 사용<br>\n",
    "Redshift : 정수를 나눌 때 자동으로 실수로 변환<br>\n",
    "Hive : 정수를 나눌 때 자동으로 실수로 변환<br>\n",
    "SparkSQL : 정수를 나눌 때 자동으로 실수로 변환<br>\n",
    "BigQuery : 정수를 나눌 때 자동으로 실수로 변환<br>\n",
    "mySQL : 정수를 나눌 때 자동으로 실수로 변환"
   ]
  },
  {
   "cell_type": "raw",
   "metadata": {},
   "source": [
    "dt\tad_id\timpressions\tclicks\n",
    "2017-04-01\t001\t100000\t3000\n",
    "2017-04-01\t002\t120000\t1200\n",
    "2017-04-01\t003\t500000\t10000\n",
    "2017-04-02\t001\t0\t0\n",
    "2017-04-02\t002\t130000\t1400\n",
    "2017-04-02\t003\t620000\t15000"
   ]
  },
  {
   "cell_type": "raw",
   "metadata": {},
   "source": [
    "select \n",
    "    dt, \n",
    "    ad_id, \n",
    "    `clicks`/`impressions` as ctr, \n",
    "    100.0 * `clicks`/`impressions` as ctr_as_percent \n",
    "from `advertising_stats`;"
   ]
  },
  {
   "cell_type": "raw",
   "metadata": {},
   "source": [
    "# 0으로 나누는 것 피하기\n",
    "\n",
    "# 사전에 분모값이 0이 아닌지 확인하여 계산, 0보다 큰값으로 처리하므로 작은 값이 나올 때의 조건도 필요하다만\n",
    "select \n",
    "    dt, \n",
    "    ad_id, \n",
    "    case when impressions > 0 then 100.0 * `clicks`/`impressions` end \n",
    "    as ctr_as_percent_by_case\n",
    "from `advertising_stats`;\n",
    "\n",
    "# 분모가 0이면(nullif은 두 값이 값으면 NULL, 다르면 첫번째 인자를 리턴한다) null 값으로 만들어 계산을 피함\n",
    "select \n",
    "    dt, \n",
    "    ad_id, \n",
    "    100.0 * `clicks`/nullif(`impressions`, 0) as ctr_as_percent_by_case\n",
    "from `advertising_stats`;"
   ]
  },
  {
   "cell_type": "markdown",
   "metadata": {},
   "source": [
    "#### 4 두 값의 거리 계산하기"
   ]
  },
  {
   "cell_type": "raw",
   "metadata": {},
   "source": [
    "# 두 지점간의 거리를 계산. \n",
    "절대값 : ABS\n",
    "제곱 : POWER\n",
    "제곱근 : SQRT\n",
    "\n",
    "select \n",
    "\tx1, \n",
    "\tx2, \n",
    "    abs(x1 - x2) as abs,\n",
    "    SQRT(power(x1 - x2, 2)) as rms \n",
    "from location_1d;"
   ]
  },
  {
   "cell_type": "raw",
   "metadata": {},
   "source": [
    "# 유클리드 거리 계산\n",
    "\n",
    "select \n",
    "\tx1, \n",
    "\tx2, \n",
    "    sqrt(power(x1 -x2, 2) + power(y1 - y2, 2)) as dist\n",
    "from location_2d;\n",
    "\n",
    "*PostgresSQL 은 POINT 자료형이라 불리는 좌표를 다루는 자료 구조 사용"
   ]
  },
  {
   "cell_type": "markdown",
   "metadata": {},
   "source": [
    "#### 5 날짜/시간 계산하기"
   ]
  },
  {
   "cell_type": "markdown",
   "metadata": {},
   "source": [
    "- 날짜/시간을 계산하기 <br>\n",
    "PostgreSQL : interval 자료형 데이터에 사칙 연산 적용<br>\n",
    "Redshift : dateadd 함수 사용<br>\n",
    "Hive : unixtime 으로 변환, 초단위 계산을 적용후 다시 타임스탬프로 변환<br>\n",
    "SparkSQL : unixtime 으로 변환, 초단위 계산을 적용후 다시 타임스탬프로 변환<br>\n",
    "BigQuery : timestamp_add/sub, date_add/sub 함수 사용<br>\n",
    "mySQL : dateadd 함수 사용가능"
   ]
  },
  {
   "cell_type": "raw",
   "metadata": {},
   "source": [
    "SELECT \n",
    "    DATE_ADD(register_stamp, INTERVAL 1 hour ),\n",
    "    DATE_ADD(register_stamp, INTERVAL 30 minute ) \n",
    "from mst_users_with_birthday;"
   ]
  },
  {
   "cell_type": "markdown",
   "metadata": {},
   "source": [
    "- 날짜 데이터들의 차이 계산하기 <br>\n",
    "PostgreSQL : 날짜 자료형끼리 빼기 가능 <br>\n",
    "Redshift : 날짜 자료형끼리 빼기 가능 <br>\n",
    "Hive : datediff 함수 사용<br>\n",
    "SparkSQL : datediff 함수 사용<br>\n",
    "BigQuery : date_diff 함수 사용<br>\n",
    "mySQL : datediff 함수 사용"
   ]
  },
  {
   "cell_type": "raw",
   "metadata": {},
   "source": [
    "SELECT \n",
    "    curdate(),\n",
    "    register_stamp,\n",
    "    DATEDIFF(curdate(), register_stamp)\n",
    "from mst_users_with_birthday"
   ]
  },
  {
   "cell_type": "markdown",
   "metadata": {},
   "source": [
    "- 나이 계산하기 <br>\n",
    "PostgreSQL :  age 함수와 EXTRACT 함수 사용"
   ]
  },
  {
   "cell_type": "markdown",
   "metadata": {},
   "source": [
    "#### 6 IP 주소 다루기"
   ]
  },
  {
   "cell_type": "markdown",
   "metadata": {},
   "source": [
    "- IP 주소를 정수 자료형으로 변환하기 <br>\n",
    "PostgreSQL : split_part 로 문자열 분해<br>\n",
    "Redshift : split_part 로 문자열 분해<br>\n",
    "Hive : split 함수 사용<br>\n",
    "SparkSQL : split 함수 사용 <br>\n",
    "BigQuery : split 함수 사용<br>\n",
    "mySQL : split 함수 사용<br>"
   ]
  },
  {
   "cell_type": "markdown",
   "metadata": {},
   "source": [
    "- IP 주소를 0으로 메우기 <br>\n",
    "PostgreSQL : lpad 함수로 0으로 대치<br>\n",
    "Redshift : lpad 함수로 0으로 대치<br>\n",
    "Hive : split 함수로 배열 분해 후  n번째 요소로 추출<br>\n",
    "SparkSQL : split 함수로 배열 분해 후  n번째 요소로 추출<br>\n",
    "BigQuery : split 함수로 배열 분해 후  n번째 요소로 추출<br>\n",
    "mySQL : split 함수로 배열 분해 후  n번째 요소로 추출<br>"
   ]
  },
  {
   "cell_type": "markdown",
   "metadata": {},
   "source": [
    "### 7강 하나의 테이블에 대한 조작"
   ]
  },
  {
   "cell_type": "markdown",
   "metadata": {},
   "source": [
    "- 데이터 집약\n",
    "- 데이터 가공"
   ]
  },
  {
   "cell_type": "markdown",
   "metadata": {},
   "source": [
    "#### 1 그룹의 특징 잡기"
   ]
  },
  {
   "cell_type": "raw",
   "metadata": {},
   "source": [
    "# 테이블 전체의 특징량 계산하기\n",
    "select \n",
    "    count(*) as total_caount,\n",
    "    count(distinct user_id) as user_count,\n",
    "    count(distinct product_id) as product_count,\n",
    "    sum(score) as sum,\n",
    "    avg(score) as avg,\n",
    "    max(score) as max,\n",
    "    min(score) as min \n",
    "from review;"
   ]
  },
  {
   "cell_type": "raw",
   "metadata": {},
   "source": [
    "# 그루핑한 데이터의 특징량 계산하기\n",
    "select \n",
    "    user_id,\n",
    "    count(distinct product_id) as product_count,\n",
    "    sum(score) as sum,\n",
    "    avg(score) as avg,\n",
    "    max(score) as max,\n",
    "    min(score) as min \n",
    "from review\n",
    "group by user_id;"
   ]
  },
  {
   "cell_type": "raw",
   "metadata": {},
   "source": [
    "# 집약 함수를 적용한 값과 집약 전의 값을 동시에 다루기\n",
    "select \n",
    "    user_id,\n",
    "    product_id,\n",
    "    score,\n",
    "    avg(`score`) over() as avg_score,\n",
    "    avg(`score`) over(partition by user_id) as user_avg_score,\n",
    "    score - avg(score) over(partition by user_id) as user_avg_score_diff\n",
    "from review;\n",
    "\n",
    "* mysql 은 over() 함수를 지원하지 않음.\n",
    "select \n",
    "    t1.user_id, \n",
    "    t1.product_id, \n",
    "    t1.score, \n",
    "    t2.avg_score, \n",
    "    t3.user_avg_score, \n",
    "    t1.score-t3.user_avg_score \n",
    "from \n",
    "(select \n",
    "    user_id,\n",
    "    product_id,\n",
    "    score,\n",
    "    'jk' \n",
    "from \n",
    "review group by user_id, product_id) t1\n",
    "left join \n",
    "(select \n",
    "    'jk', \n",
    "    avg(score) as avg_score\n",
    "from review ) t2 on t1.jk = t2.jk \n",
    "left join \n",
    "(select \n",
    "    user_id,\n",
    "    avg(score) as user_avg_score\n",
    "from review \n",
    "group by user_id) t3 on t1.user_id = t3.user_id "
   ]
  },
  {
   "cell_type": "markdown",
   "metadata": {},
   "source": [
    "#### 2 그룹 내부의 순서"
   ]
  },
  {
   "cell_type": "raw",
   "metadata": {},
   "source": [
    "# order by 구문으로 순서 정의하기\n",
    "\n",
    "Select \n",
    "    product_id,\n",
    "    score,\n",
    "    row_number() \t\tover(order by score desc) as row,\n",
    "    rank() \t\t\t\tover(order by score desc) as row,\n",
    "    dense_rank() \t\tover(order by score desc) as row,\n",
    "    lag(product_id) \tover(order by score desc) as lag1,\n",
    "    lag(product_id, 2) \tover(order by score desc) as lag2,\n",
    "    lead(product_id) \tover(order by score desc) as lead1,\n",
    "    lead(product_id, 2) \tover(order by score desc) as lead2\n",
    "from `popular_products`\n",
    "order by row;\n",
    "\n",
    "*mysql 은 over 함수가 없음."
   ]
  },
  {
   "cell_type": "raw",
   "metadata": {},
   "source": [
    "# order by 구문과 집약함수 조합\n",
    "\n",
    "SELECT \n",
    "    product_id,\n",
    "    score,\n",
    "    ROW_NUMBER() OVER(ORDER BY score DESC) as row,\n",
    "    SUM(score) OVER(ORDER BY socre DESC ROWS BETWEEN UNBOUNDED PRECESING AND CURRENT ROW) as cum_score,\n",
    "    AVG(score) OVER(ORVER BY score DESC ROWS BETWEEN 1 PRECEDING AND 1 FOLLOWING) as local_avg,\n",
    "    FIRST_VALUE(product_id) OVER(ORDER BY score DESC ROWS BETWEEN UNBOUNDED PRECEDING AND UNBOUNDED FOLLOWING) as first_value,\n",
    "    LAST_VALUE(product_id) OVER(ORDER BY score DESC ROWS BETWEEN UNBOUNDED PRECEDING AND UNBOUNDED FOLLOWING) as last_value\n",
    "FROM popluar_products\n",
    "ORDER BY row;\n",
    "\n",
    "*mysql 에서는 OVER 함수와 ORDER BY 를 조합한 윈도 함수를 사용할 수 없다."
   ]
  },
  {
   "cell_type": "raw",
   "metadata": {},
   "source": [
    " # 윈도 프레임 지정에 대해서 "
   ]
  },
  {
   "cell_type": "raw",
   "metadata": {},
   "source": [
    "# PARTITION BY와 ORDER BY  조합하기"
   ]
  },
  {
   "cell_type": "raw",
   "metadata": {},
   "source": [
    "# 각 카테고리의 상위 n개 추출하기"
   ]
  },
  {
   "cell_type": "markdown",
   "metadata": {},
   "source": [
    "#### 3 세로 기반 데이터를 가로 기반으로 변환하기"
   ]
  },
  {
   "cell_type": "raw",
   "metadata": {},
   "source": [
    "# 행을 열로 변환하기\n",
    "\n",
    "SELECT \n",
    "    dt,\n",
    "    MAX(CASE WHEN indicator = 'impressions' THEN val END) as impressions,\n",
    "    MAX(CASE WHEN indicator = 'sessions' THEN val END) as sessions,\n",
    "    MAX(CASE WHEN indicator = 'users' THEN val END) as users\n",
    "FROM daily_kpi\n",
    "GROUP BY dt\n",
    "ORDER BY dt;\n",
    "\n",
    "*MAX  대신 MIN을 써도 된다. "
   ]
  },
  {
   "cell_type": "raw",
   "metadata": {},
   "source": [
    "# 행을 쉼표로 구분한 문자열로 집약하기\n",
    "\n",
    "PostgreSQL : string_agg\n",
    "Redshift : listagg\n",
    "Hive : collect_list, concat_ws를 조합\n",
    "SparkSQL :  collect_list, concat_ws를 조합\n",
    "BigQuery : string_agg\n",
    "mySQL : GROUP_CONCAT, concat_ws를 조합\n",
    "\n",
    "SELECT \n",
    "\t`purchase_id`,\n",
    "\tconcat_ws( ',', GROUP_CONCAT(product_id)) as product_ids,\n",
    "\tsum(price) as amount\n",
    "FROM `purchase_detail_log`\n",
    "GROUP BY `purchase_id`\n",
    "ORDER BY `purchase_id`\t"
   ]
  },
  {
   "cell_type": "markdown",
   "metadata": {},
   "source": [
    "#### 4 가로 기반 데이터를 세로 기반 데이터로 변환하기"
   ]
  },
  {
   "cell_type": "raw",
   "metadata": {},
   "source": [
    "# 열로 표현된 값을 행으로 변환하기\n",
    "\n",
    "*mysql 에서는 order by 를 통해서 정렬을 해줘야 한다.\n",
    "SELECT \n",
    "    q.year,\n",
    "    CASE \n",
    "    WHEN p.idx = 1 THEN 'q1'\n",
    "    WHEN p.idx = 2 THEN 'q2'\n",
    "    WHEN p.idx = 3 THEN 'q3'\n",
    "    WHEN p.idx = 4 THEN 'q4'\n",
    "        END as quarter,\n",
    "    CASE\n",
    "    WHEN p.idx = 1 THEN q.q1\n",
    "    WHEN p.idx = 2 THEN q.q2 \n",
    "    WHEN p.idx = 3 THEN q.q3\n",
    "    WHEN p.idx = 4 THEN q.q4\n",
    "    END AS sales\n",
    "FROM \n",
    "`quarterly_sales` as q\n",
    "cross join\n",
    "    (select 1 as idx\n",
    "    union all select 2 as idx\n",
    "    union all select 3 as idx\n",
    "    union all select 4 as idx) as p\n",
    "order by year, quarter;"
   ]
  },
  {
   "cell_type": "raw",
   "metadata": {},
   "source": [
    "# 임의의 길이를 가진 배열을 행으로 전개하기\n",
    "\n",
    "PostgreSQL : unnest 함수\n",
    "Redshift : -\n",
    "Hive : explode 함수\n",
    "SparkSQL :  explode 함수\n",
    "BigQuery : unnest 함수\n",
    "mySQL : - \n",
    "\n",
    "PostgreSQL : string_to_array, unnset 함수 조합\n",
    "Redshift : -\n",
    "Hive : lateral view와 explode 함수\n",
    "SparkSQL :  lateral view와 explode 함수\n",
    "BigQuery : split, unnset 함수 조합\n",
    "mySQL : - \n",
    "\n",
    "PostgreSQL : rehexp_split_to_table 함수"
   ]
  },
  {
   "cell_type": "raw",
   "metadata": {},
   "source": [
    "# Redshift에서 문자열을 행으로 전개하기\n",
    "\n",
    "* 일련번호를 가진 피벗 테이블을 만드는 쿼리\n",
    "SELECT * FROM \n",
    "(SELECT 1 AS idx \n",
    "UNION ALL SELECT 2 AS idx \n",
    "UNION ALL SELECT 3 AS idx \n",
    ") as pivot;\n",
    "\n",
    "SELECT \n",
    "purchase_id,\n",
    "product_ids,\n",
    "1 + char_length(product_ids) - char_length(replace(product_ids, ',', ''))\n",
    "as product_num\n",
    "from \n",
    "`purchase_log`\n",
    "\n",
    "(이하 생략)"
   ]
  },
  {
   "cell_type": "markdown",
   "metadata": {},
   "source": [
    "### 8강 여러 개의 테이블 조작하기"
   ]
  },
  {
   "cell_type": "markdown",
   "metadata": {},
   "source": [
    "#### 1 여러 개의 테이블을 세로로 결합하기"
   ]
  },
  {
   "cell_type": "raw",
   "metadata": {},
   "source": [
    "SELECT 'app1' as app_name, user_id, name, email FROM app1_mst_users\n",
    "UNION ALL\n",
    "SELECT 'app2' as app_name, user_id, name, null as email FROM app2_mst_users ;"
   ]
  },
  {
   "cell_type": "markdown",
   "metadata": {},
   "source": [
    "#### 2 여러 개의 테이블을 가로로 정렬하기"
   ]
  },
  {
   "cell_type": "raw",
   "metadata": {},
   "source": [
    "# 여러 개의 테이블을 결합해서 가로로 정렬하는 쿼리\n",
    "\n",
    "SELECT\n",
    "    m.category_id,\n",
    "    m.name,\n",
    "    s.sales,\n",
    "    r.product_id as sale_product\n",
    "from \n",
    "    mst_categories as m\n",
    "join \n",
    "    category_sales as s on m.category_id = s.category_id\n",
    "join\n",
    "    product_sale_ranking as r on m.category_id = r.category_id;"
   ]
  },
  {
   "cell_type": "raw",
   "metadata": {},
   "source": [
    "# 마스터 페이블의 행 수를 변경하지 않고 여러 개의 테이블을 가로로 정렬하는 방법\n",
    "\n",
    "SELECT\n",
    "    m.category_id,\n",
    "    m.name,\n",
    "    s.sales,\n",
    "    r.product_id as top_sale_product\n",
    "from mst_categories as m\n",
    "left join\n",
    "    category_sales as s on m.category_id = s.category_id\n",
    "left join\n",
    "`product_sale_ranking` as r on m.category_id = r.category_id\n",
    "and r.rank = 1;"
   ]
  },
  {
   "cell_type": "raw",
   "metadata": {},
   "source": [
    "# 상관 서브쿼리로 여러 개의 테이블을 가로로 정렬하는 쿼리\n",
    "\n",
    "SELECT\n",
    "m.category_id,\n",
    "m.name,\n",
    "(SELECT s.sales FROM category_sales as s where m.category_id = s.category_id) as sales,\n",
    "(SELECT r.product_id from `product_sale_ranking` as r where m.category_id = r.category_id\n",
    "order by sales desc limit 1) as top_sales_product \n",
    "from mst_categories as m;"
   ]
  },
  {
   "cell_type": "markdown",
   "metadata": {},
   "source": [
    "#### 3 조건 플래그를 0과 1로 표현하기"
   ]
  },
  {
   "cell_type": "raw",
   "metadata": {},
   "source": [
    "# 신용카드 등록과 구매 이력 유무를 0과 1이라는 플래그로 나타내는 쿼리\n",
    "\n",
    "SELECT\n",
    "    m.user_id,\n",
    "    m.card_number,\n",
    "    COUNT(p.user_id) AS purchase_count,\n",
    "    CASE WHEN m.card_number IS NOT NULL THEN 1 ELSE 0 END AS has_card,\n",
    "    SIGN(COUNT(p.user_id)) as has_purchased\n",
    "from \n",
    "    `mst_users_with_card_number` as m\n",
    "left join \n",
    "    `purchase_log` as p on m.user_id = p.user_id\n",
    "group by m.user_id, m.card_number;"
   ]
  },
  {
   "cell_type": "markdown",
   "metadata": {},
   "source": [
    "#### 4 계산한 테이블에 이름 붙여 재사용하기"
   ]
  },
  {
   "cell_type": "raw",
   "metadata": {},
   "source": [
    "# 카테고리별 순위를 추가한 테이블에 이름 붙이기\n",
    "\n",
    "WITH product_sales_ranking as (\n",
    "    SELECT \n",
    "    category_id,\n",
    "    sales,\n",
    "    row_number() over(partition by category_name order by sales DESC) as rank\n",
    "FROM\n",
    "    product_sales\n",
    "    )\n",
    "    SELECT * FROM product_sale_ranking;\n",
    "    \n",
    "* mysql 은 with 절을 사용하지 않음"
   ]
  },
  {
   "cell_type": "raw",
   "metadata": {},
   "source": [
    "# 카테고리들의 순위에서 유니크한 순위 목록을 계산하는 쿼리\n",
    "\n",
    "WITH\n",
    "product_sale_ranking as (\n",
    "    SELECT \n",
    "    category_id,\n",
    "    sales,\n",
    "    row_number() over(partition by category_name order by sales DESC) as rank\n",
    "FROM\n",
    "    product_sales )\n",
    "    , mst_rank as ( SELECT DISTINCT rank from product_sales_ranking)\n",
    "SELECT *  FROM mst_rank;\n",
    "\n",
    "* mysql 은 with 절을 사용하지 않음"
   ]
  },
  {
   "cell_type": "raw",
   "metadata": {},
   "source": [
    "# 카테고리들의 순위를 횡단적으로 출력하는 쿼리\n",
    "(생략)"
   ]
  },
  {
   "cell_type": "markdown",
   "metadata": {},
   "source": [
    "#### 5 유사 테이블 만들기"
   ]
  },
  {
   "cell_type": "markdown",
   "metadata": {},
   "source": [
    "- 임의의 레코드를 가진 유사한 테이블 만들기"
   ]
  },
  {
   "cell_type": "raw",
   "metadata": {},
   "source": [
    "# 디바이스 ID와 이름의 마스터 테이블을 만드는 쿼리\n",
    "WITH\n",
    "mst_devices AS ( SELECT 1 AS device_id, 'PC' AS device_name\n",
    "UNION ALL SELECT 2 AS device_id, 'SP' AS device_name,\n",
    "UNION ALL SELECT 3 AS device_id, '애플리케이션' as device_name)\n",
    "SELECT * FROM mst_device;\n",
    "\n",
    "* mysql 은 with 절을 사용하지 않음"
   ]
  },
  {
   "cell_type": "raw",
   "metadata": {},
   "source": [
    "# 의사 테이블을 사용해 코드를 레이블로 변환하는 쿼리 \n",
    "(생략)"
   ]
  },
  {
   "cell_type": "raw",
   "metadata": {},
   "source": [
    "# VALUES 구문을 사용한 유사 테이블 만들기\n",
    "WITH\n",
    "met_devices(device_id, device_name) as (\n",
    "values\n",
    "(1, 'PC'),\n",
    "(2, 'SP'),\n",
    "(3, '애플리케이션')\n",
    ")\n",
    "SELECT * FROM met_devices;\n",
    "\n",
    "* mysql 은 with 절을 사용하지 않음"
   ]
  },
  {
   "cell_type": "raw",
   "metadata": {},
   "source": [
    "# 배열형 테이블 함수를 사용한 유사 테이블 만들기\n",
    "(생략)"
   ]
  },
  {
   "cell_type": "raw",
   "metadata": {},
   "source": [
    "# map 자료형고 explode 함수를 사용해 통적으로 테이블을 작성하는 쿼리\n",
    "(생략)"
   ]
  },
  {
   "cell_type": "markdown",
   "metadata": {},
   "source": [
    "- 순번을 사용해 테이블 작성하기"
   ]
  },
  {
   "cell_type": "raw",
   "metadata": {},
   "source": [
    "# 순번을 가진 유사 테이블을 작성하는 쿼리\n",
    "(생략)"
   ]
  },
  {
   "cell_type": "raw",
   "metadata": {},
   "source": [
    "# repeat 함수를 응용해서 순번을 작성하는 쿼리\n",
    "(생략)"
   ]
  }
 ],
 "metadata": {
  "kernelspec": {
   "display_name": "Python 3",
   "language": "python",
   "name": "python3"
  },
  "language_info": {
   "codemirror_mode": {
    "name": "ipython",
    "version": 3
   },
   "file_extension": ".py",
   "mimetype": "text/x-python",
   "name": "python",
   "nbconvert_exporter": "python",
   "pygments_lexer": "ipython3",
   "version": "3.6.5"
  }
 },
 "nbformat": 4,
 "nbformat_minor": 2
}
