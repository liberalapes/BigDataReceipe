{
 "cells": [
  {
   "cell_type": "markdown",
   "metadata": {},
   "source": [
    "# 데이터 분석을 위한 SQL 레시피"
   ]
  },
  {
   "cell_type": "markdown",
   "metadata": {},
   "source": [
    "## 3장 데이터 가공을 위한 SQL"
   ]
  },
  {
   "cell_type": "markdown",
   "metadata": {},
   "source": [
    "- 데이터를 가공해야 하는 이유<br>\n",
    "1) 다를 데이터가 데이터 분석용도로 상정되지 않은 경우<br>\n",
    "2) 연산할 때 비교가능한 상태로 만들고 오류를 회피하기 위한 경우<br>"
   ]
  },
  {
   "cell_type": "markdown",
   "metadata": {},
   "source": [
    "### 5강 하나의 값 조작하기"
   ]
  },
  {
   "cell_type": "markdown",
   "metadata": {},
   "source": [
    "#### 1 코드 값을 레이블로 변경하기"
   ]
  },
  {
   "cell_type": "raw",
   "metadata": {},
   "source": [
    "CASE expression\n",
    "    WHEN condition1 THEN result1\n",
    "    WHEN condition2 THEN result2\n",
    "   ...\n",
    "    WHEN conditionN THEN resultN\n",
    "    ELSE result\n",
    "END"
   ]
  },
  {
   "cell_type": "markdown",
   "metadata": {},
   "source": [
    "#### 2 URL에서 요소 추출하기"
   ]
  },
  {
   "cell_type": "markdown",
   "metadata": {},
   "source": [
    "- 레퍼로 어떤 웹 페이지를 거쳐 넘어왔는지 판별하기\n",
    "- URL에서 경로와 요청 매개변수 값 추출하기"
   ]
  },
  {
   "cell_type": "markdown",
   "metadata": {},
   "source": [
    "- 데이터에서 URL 을 parsing 시\n",
    "PostgreSQL : substring  함수 + 정규식 표현<br>\n",
    "Hive : parse_url 함수<br>\n",
    "SparkSQL : parse_url 함수<br>\n",
    "Redshift : regexp_sybstr 함수와 regexp_replace 함수<br>\n",
    "BigQuery : host 함수<br>"
   ]
  },
  {
   "cell_type": "markdown",
   "metadata": {},
   "source": [
    "#### 3 문자열을 배열로 분해하기"
   ]
  },
  {
   "cell_type": "markdown",
   "metadata": {},
   "source": [
    "- 데이터에서 URL 을 parsing 시\n",
    "PostgreSQL : split_part<br>\n",
    "Redshift : split_part<br>\n",
    "Hive : split 함수<br>\n",
    "SparkSQL : split 함수<br>\n",
    "BigQuery : split 함수<br>\n",
    "mySQL : SUBSTRING_INDEX, LEFT, RIGHT 함수를 조합<br>"
   ]
  },
  {
   "cell_type": "markdown",
   "metadata": {},
   "source": [
    "#### 4 날짜와 타임스탬프 다루기"
   ]
  },
  {
   "cell_type": "markdown",
   "metadata": {},
   "source": [
    "- 데이터에서 시간 추출\n",
    "PostgreSQL : CURRENT_DATE 상수 + SURRENT_TIMESTAMP  사용 <br>\n",
    "Redshift : CURRENT_DATE, GERDATE() 사용\n",
    "Hive : CURRENT_DATE  + SURRENT_TIMESTAMP  사용 <br>\n",
    "SparkSQL : CURRENT_DATE  + SURRENT_TIMESTAMP  사용 <br>\n",
    "BigQuery : CURRENT_DATE  + SURRENT_TIMESTAMP  사용 <br>\n",
    "mySQL : CURRENT_DATE, CURRENT_TIME, CURRENT_TIMESTAMP 사용<br>"
   ]
  },
  {
   "cell_type": "markdown",
   "metadata": {},
   "source": [
    "- 문자열을 날짜/타임스탬프로 변환\n",
    "PostgreSQL : CAST(value as type) <br>\n",
    "Redshift : CAST(value as type)<br>\n",
    "Hive : CAST(value as type) <br>\n",
    "SparkSQL : CAST(value as type)<br>\n",
    "BigQuery : CAST(value as type)<br>\n",
    "mySQL : STR_TO_DATE('2018-06-18 20:59:59','%Y-%m-%d %H:%i:%s')"
   ]
  },
  {
   "cell_type": "markdown",
   "metadata": {},
   "source": [
    "- 날짜/시각에서 특정 필드 추출\n",
    "PostgreSQL : EXTRACT(YEAR FROM stamp) as YYYY<br>\n",
    "Redshift : EXTRACT(YEAR FROM stamp) as YYYY<br>\n",
    "Hive : YEAR(stamp) as YYYY <br>\n",
    "SparkSQL : YEAR(stamp) as YYYY<br>\n",
    "BigQuery : EXTRACT(YEAR FROM stamp) as YYYY<br>\n",
    "mySQL : YEAR(stamp) as YYYY"
   ]
  },
  {
   "cell_type": "markdown",
   "metadata": {},
   "source": [
    "#### 5 결손 값을 디폴트 값으로 대치하기"
   ]
  },
  {
   "cell_type": "raw",
   "metadata": {},
   "source": [
    "select \n",
    "    `purchase_id`,\n",
    "    `amount`,\n",
    "    `coupon`, \n",
    "    `amount` - `coupon` as discount_amount1, \n",
    "    `amount`- COALESCE(`coupon`, 0) as discount_amount2 \n",
    "from purchase_log_with_coupon ;\n",
    "\n",
    "cf. mysql 에서는 ifnull 도 사용가능"
   ]
  },
  {
   "cell_type": "markdown",
   "metadata": {},
   "source": [
    "### 6강 여러 개의 값에 대한 조작"
   ]
  },
  {
   "cell_type": "markdown",
   "metadata": {},
   "source": [
    "#### 1 문자열 연결하기"
   ]
  },
  {
   "cell_type": "markdown",
   "metadata": {},
   "source": [
    "#### 2 여러 개의 값 비교하기"
   ]
  },
  {
   "cell_type": "markdown",
   "metadata": {},
   "source": [
    "#### 3 2개의 값 비율 계산하기"
   ]
  },
  {
   "cell_type": "markdown",
   "metadata": {},
   "source": [
    "#### 4 두 값의 거리 계산하기"
   ]
  },
  {
   "cell_type": "markdown",
   "metadata": {},
   "source": [
    "#### 5 날짜/시간 계산하기"
   ]
  },
  {
   "cell_type": "markdown",
   "metadata": {},
   "source": [
    "#### 6 IP 주소 다루기"
   ]
  },
  {
   "cell_type": "markdown",
   "metadata": {},
   "source": [
    "### 7강 하나의 테이블에 대한 조작"
   ]
  },
  {
   "cell_type": "markdown",
   "metadata": {},
   "source": [
    "#### 1 그룹의 특징 잡기"
   ]
  },
  {
   "cell_type": "markdown",
   "metadata": {},
   "source": [
    "#### 2 그룹 내부의 순서"
   ]
  },
  {
   "cell_type": "markdown",
   "metadata": {},
   "source": [
    "#### 3 세로 기반 데이터를 가로 기반으로 변환하기"
   ]
  },
  {
   "cell_type": "markdown",
   "metadata": {},
   "source": [
    "#### 4 가로 기반 데이터를 세로 기반 데이터로 변환하기"
   ]
  },
  {
   "cell_type": "markdown",
   "metadata": {},
   "source": [
    "### 8강 여러 개의 테이블 조작하기"
   ]
  },
  {
   "cell_type": "markdown",
   "metadata": {},
   "source": [
    "#### 1 여러 개의 테이블을 세로로 결합하기"
   ]
  },
  {
   "cell_type": "markdown",
   "metadata": {},
   "source": [
    "#### 2 여러 개의 테이블을 가로로 정렬하기"
   ]
  },
  {
   "cell_type": "markdown",
   "metadata": {},
   "source": [
    "#### 3 조건 플래그를 0과 1로 표현하기"
   ]
  },
  {
   "cell_type": "markdown",
   "metadata": {},
   "source": [
    "#### 4 계산한 테이블에 이름 붙여 재사용하기"
   ]
  },
  {
   "cell_type": "markdown",
   "metadata": {},
   "source": [
    "#### 5 유사 테이블 만들기"
   ]
  },
  {
   "cell_type": "code",
   "execution_count": null,
   "metadata": {},
   "outputs": [],
   "source": []
  }
 ],
 "metadata": {
  "kernelspec": {
   "display_name": "Python 3",
   "language": "python",
   "name": "python3"
  },
  "language_info": {
   "codemirror_mode": {
    "name": "ipython",
    "version": 3
   },
   "file_extension": ".py",
   "mimetype": "text/x-python",
   "name": "python",
   "nbconvert_exporter": "python",
   "pygments_lexer": "ipython3",
   "version": "3.6.5"
  }
 },
 "nbformat": 4,
 "nbformat_minor": 2
}
