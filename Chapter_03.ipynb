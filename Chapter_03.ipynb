{
 "cells": [
  {
   "cell_type": "markdown",
   "metadata": {},
   "source": [
    "# 데이터 분석을 위한 SQL 레시피"
   ]
  },
  {
   "cell_type": "markdown",
   "metadata": {},
   "source": [
    "## 3장 데이터 가공을 위한 SQL"
   ]
  },
  {
   "cell_type": "markdown",
   "metadata": {},
   "source": [
    "- 데이터를 가공해야 하는 이유<br>\n",
    "1) 다를 데이터가 데이터 분석용도로 상정되지 않은 경우<br>\n",
    "2) 연산할 때 비교가능한 상태로 만들고 오류를 회피하기 위한 경우<br>"
   ]
  },
  {
   "cell_type": "markdown",
   "metadata": {},
   "source": [
    "### 5강 하나의 값 조작하기"
   ]
  },
  {
   "cell_type": "markdown",
   "metadata": {},
   "source": [
    "#### 1 코드 값을 레이블로 변경하기"
   ]
  },
  {
   "cell_type": "raw",
   "metadata": {},
   "source": [
    "CASE expression\n",
    "    WHEN condition1 THEN result1\n",
    "    WHEN condition2 THEN result2\n",
    "   ...\n",
    "    WHEN conditionN THEN resultN\n",
    "    ELSE result\n",
    "END"
   ]
  },
  {
   "cell_type": "markdown",
   "metadata": {},
   "source": [
    "#### 2 URL에서 요소 추출하기"
   ]
  },
  {
   "cell_type": "markdown",
   "metadata": {},
   "source": [
    "- 레퍼로 어떤 웹 페이지를 거쳐 넘어왔는지 판별하기\n",
    "- URL에서 경로와 요청 매개변수 값 추출하기"
   ]
  },
  {
   "cell_type": "markdown",
   "metadata": {},
   "source": [
    "- 데이터에서 URL 을 parsing 시 <br>\n",
    "PostgreSQL : substring  함수 + 정규식 표현<br>\n",
    "Hive : parse_url 함수<br>\n",
    "SparkSQL : parse_url 함수<br>\n",
    "Redshift : regexp_sybstr 함수와 regexp_replace 함수<br>\n",
    "BigQuery : host 함수<br>"
   ]
  },
  {
   "cell_type": "markdown",
   "metadata": {},
   "source": [
    "#### 3 문자열을 배열로 분해하기"
   ]
  },
  {
   "cell_type": "markdown",
   "metadata": {},
   "source": [
    "- 데이터에서 URL 을 parsing 시 <br>\n",
    "PostgreSQL : split_part<br>\n",
    "Redshift : split_part<br>\n",
    "Hive : split 함수<br>\n",
    "SparkSQL : split 함수<br>\n",
    "BigQuery : split 함수<br>\n",
    "mySQL : SUBSTRING_INDEX, LEFT, RIGHT 함수를 조합<br>"
   ]
  },
  {
   "cell_type": "markdown",
   "metadata": {},
   "source": [
    "#### 4 날짜와 타임스탬프 다루기"
   ]
  },
  {
   "cell_type": "markdown",
   "metadata": {},
   "source": [
    "- 데이터에서 시간 추출 <br>\n",
    "PostgreSQL : CURRENT_DATE 상수 + SURRENT_TIMESTAMP  사용 <br>\n",
    "Redshift : CURRENT_DATE, GERDATE() 사용\n",
    "Hive : CURRENT_DATE  + SURRENT_TIMESTAMP  사용 <br>\n",
    "SparkSQL : CURRENT_DATE  + SURRENT_TIMESTAMP  사용 <br>\n",
    "BigQuery : CURRENT_DATE  + SURRENT_TIMESTAMP  사용 <br>\n",
    "mySQL : CURRENT_DATE, CURRENT_TIME, CURRENT_TIMESTAMP 사용<br>"
   ]
  },
  {
   "cell_type": "markdown",
   "metadata": {},
   "source": [
    "- 문자열을 날짜/타임스탬프로 변환 <br>\n",
    "PostgreSQL : CAST(value as type) <br>\n",
    "Redshift : CAST(value as type)<br>\n",
    "Hive : CAST(value as type) <br>\n",
    "SparkSQL : CAST(value as type)<br>\n",
    "BigQuery : CAST(value as type)<br>\n",
    "mySQL : STR_TO_DATE('2018-06-18 20:59:59','%Y-%m-%d %H:%i:%s')"
   ]
  },
  {
   "cell_type": "markdown",
   "metadata": {},
   "source": [
    "- 날짜/시각에서 특정 필드 추출 <br>\n",
    "PostgreSQL : EXTRACT(YEAR FROM stamp) as YYYY<br>\n",
    "Redshift : EXTRACT(YEAR FROM stamp) as YYYY<br>\n",
    "Hive : YEAR(stamp) as YYYY <br>\n",
    "SparkSQL : YEAR(stamp) as YYYY<br>\n",
    "BigQuery : EXTRACT(YEAR FROM stamp) as YYYY<br>\n",
    "mySQL : YEAR(stamp) as YYYY"
   ]
  },
  {
   "cell_type": "markdown",
   "metadata": {},
   "source": [
    "#### 5 결손 값을 디폴트 값으로 대치하기"
   ]
  },
  {
   "cell_type": "raw",
   "metadata": {},
   "source": [
    "select \n",
    "    `purchase_id`,\n",
    "    `amount`,\n",
    "    `coupon`, \n",
    "    `amount` - `coupon` as discount_amount1, \n",
    "    `amount`- COALESCE(`coupon`, 0) as discount_amount2 \n",
    "from purchase_log_with_coupon ;\n",
    "\n",
    "cf. mysql 에서는 ifnull 도 사용가능"
   ]
  },
  {
   "cell_type": "markdown",
   "metadata": {},
   "source": [
    "### 6강 여러 개의 값에 대한 조작"
   ]
  },
  {
   "cell_type": "markdown",
   "metadata": {},
   "source": [
    "#### 1 문자열 연결하기"
   ]
  },
  {
   "cell_type": "markdown",
   "metadata": {},
   "source": [
    "CONCAT 함수 사용<br>\n",
    "<br>\n",
    "PostgreSQL : || 사용가능<br>\n",
    "Redshift : || 사용가능<br>"
   ]
  },
  {
   "cell_type": "markdown",
   "metadata": {},
   "source": [
    "#### 2 여러 개의 값 비교하기"
   ]
  },
  {
   "cell_type": "raw",
   "metadata": {},
   "source": [
    "data>\n",
    "year\tq1\tq2\tq3\tq4\n",
    "2015\t82000\t83000\t78000\t83000\n",
    "2016\t85000\t85000\t80000\t81000\n",
    "2017\t92000\t81000\tNULL\tNULL"
   ]
  },
  {
   "cell_type": "raw",
   "metadata": {},
   "source": [
    "# 분기별 매출 증감 판정하기\n",
    "\n",
    "select \n",
    "    year, \n",
    "    q1, \n",
    "    q2, \n",
    "    case \n",
    "        when q1<q2 then '+'\n",
    "        when q1=q2 then ' '\n",
    "        else '-' end \n",
    "            as judge_q1_q2, \n",
    "       q2-q1 as diff_q1_q2,\n",
    "    sign(q2-q1) as sign_q2_q1   \n",
    "from `quarterly_sales`;\n",
    "\n",
    "*mySQL도 공통"
   ]
  },
  {
   "cell_type": "raw",
   "metadata": {},
   "source": [
    "# 연간 최대/최소 4분기 매출 찾기\n",
    "select \n",
    "    year,\n",
    "    GREATEST(q1,q2,q3,q4) as greatest_sales,\n",
    "    LEAST(q1,q2,q3,q4) as least_sales\n",
    "from `quarterly_sales`;\n",
    "\n",
    "*mySQL은 null 값이 포함된 경우 null 이 표시."
   ]
  },
  {
   "cell_type": "raw",
   "metadata": {},
   "source": [
    "# 연간 평균 4분기 매출 계산하기\n",
    "\n",
    "select \n",
    "    year,\n",
    "    (q1+q2+q3+q4) / 4 as average\n",
    "from quarterly_sales ;\n",
    "\n",
    "* NULL 값 포함시 NULL 로 결과 표시. 아래와 같이 NULL값을 대치하여 계산.\n",
    "\n",
    "select \n",
    "    year,\n",
    "    (coalesce(q1,0)\n",
    "    +coalesce(q2,0)\n",
    "    +coalesce(q3,0)\n",
    "    +coalesce(q4,0)) / 4 as average\n",
    "from quarterly_sales ;\n",
    "\n",
    "* NULL 값은 포함하지 않은 평균을 구할 경우는 SIGN을 추가 사용.\n",
    "select \n",
    "    year,\n",
    "    (coalesce(q1,0)\n",
    "    +coalesce(q2,0)\n",
    "    +coalesce(q3,0)\n",
    "    +coalesce(q4,0)) / \n",
    "    (SIGN(coalesce(q1,0))\n",
    "    +SIGN(coalesce(q2,0))\n",
    "    +SIGN(coalesce(q3,0))\n",
    "    +SIGN(coalesce(q4,0))) as average\n",
    "from quarterly_sales ;"
   ]
  },
  {
   "cell_type": "markdown",
   "metadata": {},
   "source": [
    "#### 3 2개의 값 비율 계산하기"
   ]
  },
  {
   "cell_type": "markdown",
   "metadata": {},
   "source": [
    "- 정수 자료형의 데이터 나누기 <br>\n",
    "PostgreSQL : CAST를 사용<br>\n",
    "Redshift : 정수를 나눌 때 자동으로 실수로 변환<br>\n",
    "Hive : 정수를 나눌 때 자동으로 실수로 변환<br>\n",
    "SparkSQL : 정수를 나눌 때 자동으로 실수로 변환<br>\n",
    "BigQuery : 정수를 나눌 때 자동으로 실수로 변환<br>\n",
    "mySQL : 정수를 나눌 때 자동으로 실수로 변환"
   ]
  },
  {
   "cell_type": "raw",
   "metadata": {},
   "source": [
    "dt\tad_id\timpressions\tclicks\n",
    "2017-04-01\t001\t100000\t3000\n",
    "2017-04-01\t002\t120000\t1200\n",
    "2017-04-01\t003\t500000\t10000\n",
    "2017-04-02\t001\t0\t0\n",
    "2017-04-02\t002\t130000\t1400\n",
    "2017-04-02\t003\t620000\t15000"
   ]
  },
  {
   "cell_type": "raw",
   "metadata": {},
   "source": [
    "select \n",
    "    dt, \n",
    "    ad_id, \n",
    "    `clicks`/`impressions` as ctr, \n",
    "    100.0 * `clicks`/`impressions` as ctr_as_percent \n",
    "from `advertising_stats`;"
   ]
  },
  {
   "cell_type": "raw",
   "metadata": {},
   "source": [
    "# 0으로 나누는 것 피하기\n",
    "\n",
    "# 사전에 분모값이 0이 아닌지 확인하여 계산, 0보다 큰값으로 처리하므로 작은 값이 나올 때의 조건도 필요하다만\n",
    "select \n",
    "    dt, \n",
    "    ad_id, \n",
    "    case when impressions > 0 then 100.0 * `clicks`/`impressions` end \n",
    "    as ctr_as_percent_by_case\n",
    "from `advertising_stats`;\n",
    "\n",
    "# 분모가 0이면(nullif은 두 값이 값으면 NULL, 다르면 첫번째 인자를 리턴한다) null 값으로 만들어 계산을 피함\n",
    "select \n",
    "    dt, \n",
    "    ad_id, \n",
    "    100.0 * `clicks`/nullif(`impressions`, 0) as ctr_as_percent_by_case\n",
    "from `advertising_stats`;"
   ]
  },
  {
   "cell_type": "markdown",
   "metadata": {},
   "source": [
    "#### 4 두 값의 거리 계산하기"
   ]
  },
  {
   "cell_type": "raw",
   "metadata": {},
   "source": [
    "# 두 지점간의 거리를 계산. \n",
    "절대값 : ABS\n",
    "제곱 : POWER\n",
    "제곱근 : SQRT\n",
    "\n",
    "select \n",
    "\tx1, \n",
    "\tx2, \n",
    "    abs(x1 - x2) as abs,\n",
    "    SQRT(power(x1 - x2, 2)) as rms \n",
    "from location_1d;"
   ]
  },
  {
   "cell_type": "raw",
   "metadata": {},
   "source": [
    "# 유클리드 거리 계산\n",
    "\n",
    "select \n",
    "\tx1, \n",
    "\tx2, \n",
    "    sqrt(power(x1 -x2, 2) + power(y1 - y2, 2)) as dist\n",
    "from location_2d;\n",
    "\n",
    "*PostgresSQL 은 POINT 자료형이라 불리는 좌표를 다루는 자료 구조 사용"
   ]
  },
  {
   "cell_type": "markdown",
   "metadata": {},
   "source": [
    "#### 5 날짜/시간 계산하기"
   ]
  },
  {
   "cell_type": "markdown",
   "metadata": {},
   "source": [
    "- 날짜/시간을 계산하기 <br>\n",
    "PostgreSQL : interval 자료형 데이터에 사칙 연산 적용<br>\n",
    "Redshift : dateadd 함수 사용<br>\n",
    "Hive : unixtime 으로 변환, 초단위 계산을 적용후 다시 타임스탬프로 변환<br>\n",
    "SparkSQL : unixtime 으로 변환, 초단위 계산을 적용후 다시 타임스탬프로 변환<br>\n",
    "BigQuery : timestamp_add/sub, date_add/sub 함수 사용<br>\n",
    "mySQL : dateadd 함수 사용가능"
   ]
  },
  {
   "cell_type": "raw",
   "metadata": {},
   "source": [
    "SELECT \n",
    "    DATE_ADD(register_stamp, INTERVAL 1 hour ),\n",
    "    DATE_ADD(register_stamp, INTERVAL 30 minute ) \n",
    "from mst_users_with_birthday;"
   ]
  },
  {
   "cell_type": "markdown",
   "metadata": {},
   "source": [
    "- 날짜 데이터들의 차이 계산하기 <br>\n",
    "PostgreSQL : 날짜 자료형끼리 빼기 가능 <br>\n",
    "Redshift : 날짜 자료형끼리 빼기 가능 <br>\n",
    "Hive : datediff 함수 사용<br>\n",
    "SparkSQL : datediff 함수 사용<br>\n",
    "BigQuery : date_diff 함수 사용<br>\n",
    "mySQL : datediff 함수 사용"
   ]
  },
  {
   "cell_type": "raw",
   "metadata": {},
   "source": [
    "SELECT \n",
    "    curdate(),\n",
    "    register_stamp,\n",
    "    DATEDIFF(curdate(), register_stamp)\n",
    "from mst_users_with_birthday"
   ]
  },
  {
   "cell_type": "markdown",
   "metadata": {},
   "source": [
    "- 나이 계산하기 <br>\n",
    "PostgreSQL :  age 함수와 EXTRACT 함수 사용"
   ]
  },
  {
   "cell_type": "markdown",
   "metadata": {},
   "source": [
    "#### 6 IP 주소 다루기"
   ]
  },
  {
   "cell_type": "markdown",
   "metadata": {},
   "source": [
    "- IP 주소를 정수 자료형으로 변환하기 <br>\n",
    "PostgreSQL : split_part 로 문자열 분해<br>\n",
    "Redshift : split_part 로 문자열 분해<br>\n",
    "Hive : split 함수 사용<br>\n",
    "SparkSQL : split 함수 사용 <br>\n",
    "BigQuery : split 함수 사용<br>\n",
    "mySQL : split 함수 사용<br>"
   ]
  },
  {
   "cell_type": "markdown",
   "metadata": {},
   "source": [
    "- IP 주소를 0으로 메우기 <br>\n",
    "PostgreSQL : lpad 함수로 0으로 대치<br>\n",
    "Redshift : lpad 함수로 0으로 대치<br>\n",
    "Hive : split 함수로 배열 분해 후  n번째 요소로 추출<br>\n",
    "SparkSQL : split 함수로 배열 분해 후  n번째 요소로 추출<br>\n",
    "BigQuery : split 함수로 배열 분해 후  n번째 요소로 추출<br>\n",
    "mySQL : split 함수로 배열 분해 후  n번째 요소로 추출<br>"
   ]
  },
  {
   "cell_type": "markdown",
   "metadata": {},
   "source": [
    "### 7강 하나의 테이블에 대한 조작"
   ]
  },
  {
   "cell_type": "markdown",
   "metadata": {},
   "source": [
    "- 데이터 집약\n",
    "- 데이터 가공"
   ]
  },
  {
   "cell_type": "markdown",
   "metadata": {},
   "source": [
    "#### 1 그룹의 특징 잡기"
   ]
  },
  {
   "cell_type": "raw",
   "metadata": {},
   "source": [
    "# 테이블 전체의 특징량 계산하기\n",
    "select \n",
    "    count(*) as total_caount,\n",
    "    count(distinct user_id) as user_count,\n",
    "    count(distinct product_id) as product_count,\n",
    "    sum(score) as sum,\n",
    "    avg(score) as avg,\n",
    "    max(score) as max,\n",
    "    min(score) as min \n",
    "from review;"
   ]
  },
  {
   "cell_type": "raw",
   "metadata": {},
   "source": [
    "# 그루핑한 데이터의 특징량 계산하기\n",
    "select \n",
    "    user_id,\n",
    "    count(distinct product_id) as product_count,\n",
    "    sum(score) as sum,\n",
    "    avg(score) as avg,\n",
    "    max(score) as max,\n",
    "    min(score) as min \n",
    "from review\n",
    "group by user_id;"
   ]
  },
  {
   "cell_type": "raw",
   "metadata": {},
   "source": [
    "# 집약 함수를 적용한 값과 집약 전의 값을 동시에 다루기\n",
    "select \n",
    "    user_id,\n",
    "    product_id,\n",
    "    score,\n",
    "    avg(`score`) over() as avg_score,\n",
    "    avg(`score`) over(partition by user_id) as user_avg_score,\n",
    "    score - avg(score) over(partition by user_id) as user_avg_score_diff\n",
    "from review;\n",
    "\n",
    "* mysql 은 over() 함수를 지원하지 않음.\n",
    "select \n",
    "    t1.user_id, \n",
    "    t1.product_id, \n",
    "    t1.score, \n",
    "    t2.avg_score, \n",
    "    t3.user_avg_score, \n",
    "    t1.score-t3.user_avg_score \n",
    "from \n",
    "(select \n",
    "    user_id,\n",
    "    product_id,\n",
    "    score,\n",
    "    'jk' \n",
    "from \n",
    "review group by user_id, product_id) t1\n",
    "left join \n",
    "(select \n",
    "    'jk', \n",
    "    avg(score) as avg_score\n",
    "from review ) t2 on t1.jk = t2.jk \n",
    "left join \n",
    "(select \n",
    "    user_id,\n",
    "    avg(score) as user_avg_score\n",
    "from review \n",
    "group by user_id) t3 on t1.user_id = t3.user_id "
   ]
  },
  {
   "cell_type": "markdown",
   "metadata": {},
   "source": [
    "#### 2 그룹 내부의 순서"
   ]
  },
  {
   "cell_type": "raw",
   "metadata": {},
   "source": [
    "# order by 구문으로 순서 정의하기\n",
    "\n",
    "Select \n",
    "    product_id,\n",
    "    score,\n",
    "    row_number() \t\tover(order by score desc) as row,\n",
    "    rank() \t\t\t\tover(order by score desc) as row,\n",
    "    dense_rank() \t\tover(order by score desc) as row,\n",
    "    lag(product_id) \tover(order by score desc) as lag1,\n",
    "    lag(product_id, 2) \tover(order by score desc) as lag2,\n",
    "    lead(product_id) \tover(order by score desc) as lead1,\n",
    "    lead(product_id, 2) \tover(order by score desc) as lead2\n",
    "from `popular_products`\n",
    "order by row;\n",
    "\n",
    "*mysql 은 over 함수가 없음."
   ]
  },
  {
   "cell_type": "raw",
   "metadata": {},
   "source": [
    "# order by 구문과 집약함수 조합"
   ]
  },
  {
   "cell_type": "markdown",
   "metadata": {},
   "source": [
    "#### 3 세로 기반 데이터를 가로 기반으로 변환하기"
   ]
  },
  {
   "cell_type": "markdown",
   "metadata": {},
   "source": [
    "#### 4 가로 기반 데이터를 세로 기반 데이터로 변환하기"
   ]
  },
  {
   "cell_type": "markdown",
   "metadata": {},
   "source": [
    "### 8강 여러 개의 테이블 조작하기"
   ]
  },
  {
   "cell_type": "markdown",
   "metadata": {},
   "source": [
    "#### 1 여러 개의 테이블을 세로로 결합하기"
   ]
  },
  {
   "cell_type": "markdown",
   "metadata": {},
   "source": [
    "#### 2 여러 개의 테이블을 가로로 정렬하기"
   ]
  },
  {
   "cell_type": "markdown",
   "metadata": {},
   "source": [
    "#### 3 조건 플래그를 0과 1로 표현하기"
   ]
  },
  {
   "cell_type": "markdown",
   "metadata": {},
   "source": [
    "#### 4 계산한 테이블에 이름 붙여 재사용하기"
   ]
  },
  {
   "cell_type": "markdown",
   "metadata": {},
   "source": [
    "#### 5 유사 테이블 만들기"
   ]
  },
  {
   "cell_type": "code",
   "execution_count": null,
   "metadata": {},
   "outputs": [],
   "source": []
  }
 ],
 "metadata": {
  "kernelspec": {
   "display_name": "Python 3",
   "language": "python",
   "name": "python3"
  },
  "language_info": {
   "codemirror_mode": {
    "name": "ipython",
    "version": 3
   },
   "file_extension": ".py",
   "mimetype": "text/x-python",
   "name": "python",
   "nbconvert_exporter": "python",
   "pygments_lexer": "ipython3",
   "version": "3.6.5"
  }
 },
 "nbformat": 4,
 "nbformat_minor": 2
}
