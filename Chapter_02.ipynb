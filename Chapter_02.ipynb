{
 "cells": [
  {
   "cell_type": "markdown",
   "metadata": {},
   "source": [
    "# 데이터 분석을 위한 SQL 레시피"
   ]
  },
  {
   "cell_type": "markdown",
   "metadata": {},
   "source": [
    "## 2장 이 책에서 다루는 도구와 데이터"
   ]
  },
  {
   "cell_type": "markdown",
   "metadata": {},
   "source": [
    "### 3강 시스템"
   ]
  },
  {
   "cell_type": "markdown",
   "metadata": {},
   "source": [
    "#### 1 PostgreSQL"
   ]
  },
  {
   "cell_type": "markdown",
   "metadata": {},
   "source": [
    "#### 2 Apache Hive"
   ]
  },
  {
   "cell_type": "markdown",
   "metadata": {},
   "source": [
    "#### 3 Amazon Redshift"
   ]
  },
  {
   "cell_type": "markdown",
   "metadata": {},
   "source": [
    "#### 4 Google BigQuery"
   ]
  },
  {
   "cell_type": "markdown",
   "metadata": {},
   "source": [
    "#### 5 SparkSQL"
   ]
  },
  {
   "cell_type": "markdown",
   "metadata": {},
   "source": [
    "### 4강 데이터"
   ]
  },
  {
   "cell_type": "markdown",
   "metadata": {},
   "source": [
    "#### 1 데이터의 종류"
   ]
  },
  {
   "cell_type": "markdown",
   "metadata": {},
   "source": [
    "- 업무 데이터 : 서비스와 시스템을 운영하기 위한 목적으로 구축된 데이터베이스에 존재하는 데이터<br>\n",
    "1) 트랜젝션 데이터 : 구매 데이터, 리뷰 데이터, 게임 플레이 데이터처럼 서비스와 시스템을 통해 사용자의 행동을 기록한 데이터<br>\n",
    "2) 마스터 데이터 : 카테고리 마스터, 상품 마스터처럼 서비스와 시스템이 정의하고 있는 데이터<br>\n",
    "3) 로그 데이터 <br>\n",
    "    (a) 통계 또는 분석을 주 용도로 설계된 데이터<br>\n",
    "    (b) 특정 태그를 포함해서 전송된 데이터<br>\n",
    "    (c) 특정 행동을 서버측에 출력한 데이터<br>"
   ]
  },
  {
   "cell_type": "markdown",
   "metadata": {},
   "source": [
    "#### 2 업무 데이터"
   ]
  },
  {
   "cell_type": "markdown",
   "metadata": {},
   "source": [
    "- 업무 데이터의 특징<br>\n",
    "1) 데이터의 정밀도가 높다<br>\n",
    "2) 갱신형 데이터<br>\n",
    "3) 다뤄야 하는 테이블의 수가 많다<br>\n",
    "<br>\n",
    "- 업무 데이터 축적 방법<br>\n",
    "1) 모든 데이터 변경하기<br>\n",
    "2) 모든 레코드의 스냅샷을 날짜별로 저장하기<br>\n",
    "3) 어제와의 변경 사항만 누적하기<br>\n",
    "<br>\n",
    "- 업무 데이터 다루기<br>\n",
    "1) 매출액, 사용자 수처럼 정확한 값을 요구할 경우 활용하기<br>\n",
    "2) 서비스의 방문 횟수, 페이지뷰, 사용자 유도 등의 데이터 분석에는 사용할 수 없음<br>\n",
    "3) 데이터 변경이 발생할 수 있으므로 추출 시점에 따라 결과가 변화할 수 있음<br>"
   ]
  },
  {
   "cell_type": "markdown",
   "metadata": {},
   "source": [
    "#### 3 로그 데이터"
   ]
  },
  {
   "cell_type": "markdown",
   "metadata": {},
   "source": [
    "- 로그 데이터의 특징<br>\n",
    "1) 시간, 사용자 엔드 포인트, IP, URL, 레퍼러, Cookie 등의 정보 저장하기<br>\n",
    "2) 로그 데이터는 추출 방법에 따라 데이터의 정밀도가 달라짐<br>\n",
    "3) 계속 기록을 추가하는 것뿐이므로 과거의 데이터가 변경되지 않음<br>\n",
    "<br>\n",
    "- 로그 데이터 축적 방법<br>\n",
    "1) 태그, SDK를 통해 사용자 장치에서 데이터를 전송하고 출력하기(비컨 형태)<br>\n",
    "2) 서버에서 데이터를 추출하고 출력하기(서버형태)<br>\n",
    "<br>\n",
    "- 로그 데이터 다루기<br>\n",
    "1) 사이트 방문횟수, 페이지뷰, 사용자 유도상황을 집계하고 분석할 떄 주로 사용<br>\n",
    "2) 최신 상태를 고려한 부분석에는 적합하지 않음<br>\n",
    "3) 계속 기록을 누적하는 형태이므로 추출 결과가 변할 가능성이 적음<br>\n",
    "4) 데이터의 정확도는 업무 데이터에 비해 낮음<br>"
   ]
  },
  {
   "cell_type": "markdown",
   "metadata": {},
   "source": [
    "#### 4 두 데이터를 사용해서 생성되는 가치"
   ]
  },
  {
   "cell_type": "markdown",
   "metadata": {},
   "source": [
    "- 업무 데이터와 로그 데이터의 가치<br>\n",
    "1) 업무데이터<br>\n",
    "2) 로그데이터<br>\n",
    "<br>\n",
    "- 두 데이터를 사용했을 때 발생하는 새로운 가치<br>\n",
    "<br>\n",
    "- 데이터 사용 가치<br>\n",
    "1) 목표를 관리하고, 설계하고, 서비스/조직의 성장에 기여하기(목표관리)<br>\n",
    "2) 사용자 행동을 기반으로 경향을 발견하고, 매출과 서비스 개선에 기여하기(서비스 개선)<br>\n",
    "3) 과거의 경향을 기반으로 미래의 행동 예측하기(미래예측)<br>"
   ]
  },
  {
   "cell_type": "code",
   "execution_count": null,
   "metadata": {},
   "outputs": [],
   "source": []
  }
 ],
 "metadata": {
  "kernelspec": {
   "display_name": "Python 3",
   "language": "python",
   "name": "python3"
  },
  "language_info": {
   "codemirror_mode": {
    "name": "ipython",
    "version": 3
   },
   "file_extension": ".py",
   "mimetype": "text/x-python",
   "name": "python",
   "nbconvert_exporter": "python",
   "pygments_lexer": "ipython3",
   "version": "3.6.5"
  }
 },
 "nbformat": 4,
 "nbformat_minor": 2
}
