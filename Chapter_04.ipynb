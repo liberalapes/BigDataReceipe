{
 "cells": [
  {
   "cell_type": "markdown",
   "metadata": {},
   "source": [
    "# 데이터 분석을 위한 SQL 레시피"
   ]
  },
  {
   "cell_type": "markdown",
   "metadata": {},
   "source": [
    "## 4장 매출을 파악하기 위한 데이터 추출"
   ]
  },
  {
   "cell_type": "markdown",
   "metadata": {},
   "source": [
    "### 9강 시계열 기반으로 데이터 집계하기"
   ]
  },
  {
   "cell_type": "markdown",
   "metadata": {},
   "source": [
    "#### 1 날짜별 매출 집계하기"
   ]
  },
  {
   "cell_type": "code",
   "execution_count": 2,
   "metadata": {},
   "outputs": [
    {
     "data": {
      "text/html": [
       "<div>\n",
       "<style scoped>\n",
       "    .dataframe tbody tr th:only-of-type {\n",
       "        vertical-align: middle;\n",
       "    }\n",
       "\n",
       "    .dataframe tbody tr th {\n",
       "        vertical-align: top;\n",
       "    }\n",
       "\n",
       "    .dataframe thead th {\n",
       "        text-align: right;\n",
       "    }\n",
       "</style>\n",
       "<table border=\"1\" class=\"dataframe\">\n",
       "  <thead>\n",
       "    <tr style=\"text-align: right;\">\n",
       "      <th></th>\n",
       "      <th>purchase_count</th>\n",
       "      <th>total_amount</th>\n",
       "      <th>avg_amount</th>\n",
       "    </tr>\n",
       "    <tr>\n",
       "      <th>dt</th>\n",
       "      <th></th>\n",
       "      <th></th>\n",
       "      <th></th>\n",
       "    </tr>\n",
       "  </thead>\n",
       "  <tbody>\n",
       "    <tr>\n",
       "      <th>2014-01-01</th>\n",
       "      <td>2</td>\n",
       "      <td>24516.0</td>\n",
       "      <td>12258.0000</td>\n",
       "    </tr>\n",
       "    <tr>\n",
       "      <th>2014-01-02</th>\n",
       "      <td>2</td>\n",
       "      <td>36049.0</td>\n",
       "      <td>18024.5000</td>\n",
       "    </tr>\n",
       "    <tr>\n",
       "      <th>2014-01-03</th>\n",
       "      <td>3</td>\n",
       "      <td>53029.0</td>\n",
       "      <td>17676.3333</td>\n",
       "    </tr>\n",
       "    <tr>\n",
       "      <th>2014-01-04</th>\n",
       "      <td>3</td>\n",
       "      <td>29299.0</td>\n",
       "      <td>9766.3333</td>\n",
       "    </tr>\n",
       "    <tr>\n",
       "      <th>2014-01-05</th>\n",
       "      <td>3</td>\n",
       "      <td>48256.0</td>\n",
       "      <td>16085.3333</td>\n",
       "    </tr>\n",
       "    <tr>\n",
       "      <th>2014-01-06</th>\n",
       "      <td>3</td>\n",
       "      <td>29440.0</td>\n",
       "      <td>9813.3333</td>\n",
       "    </tr>\n",
       "    <tr>\n",
       "      <th>2014-01-07</th>\n",
       "      <td>3</td>\n",
       "      <td>47679.0</td>\n",
       "      <td>15893.0000</td>\n",
       "    </tr>\n",
       "    <tr>\n",
       "      <th>2014-01-08</th>\n",
       "      <td>3</td>\n",
       "      <td>19760.0</td>\n",
       "      <td>6586.6667</td>\n",
       "    </tr>\n",
       "    <tr>\n",
       "      <th>2014-01-09</th>\n",
       "      <td>2</td>\n",
       "      <td>22944.0</td>\n",
       "      <td>11472.0000</td>\n",
       "    </tr>\n",
       "    <tr>\n",
       "      <th>2014-01-10</th>\n",
       "      <td>2</td>\n",
       "      <td>27923.0</td>\n",
       "      <td>13961.5000</td>\n",
       "    </tr>\n",
       "  </tbody>\n",
       "</table>\n",
       "</div>"
      ],
      "text/plain": [
       "            purchase_count  total_amount  avg_amount\n",
       "dt                                                  \n",
       "2014-01-01               2       24516.0  12258.0000\n",
       "2014-01-02               2       36049.0  18024.5000\n",
       "2014-01-03               3       53029.0  17676.3333\n",
       "2014-01-04               3       29299.0   9766.3333\n",
       "2014-01-05               3       48256.0  16085.3333\n",
       "2014-01-06               3       29440.0   9813.3333\n",
       "2014-01-07               3       47679.0  15893.0000\n",
       "2014-01-08               3       19760.0   6586.6667\n",
       "2014-01-09               2       22944.0  11472.0000\n",
       "2014-01-10               2       27923.0  13961.5000"
      ]
     },
     "execution_count": 2,
     "metadata": {},
     "output_type": "execute_result"
    }
   ],
   "source": [
    "import matplotlib\n",
    "import numpy as np\n",
    "import pandas as pd\n",
    "import matplotlib.pyplot as plt\n",
    "%matplotlib inline  \n",
    "import seaborn as sns\n",
    "\n",
    "import mysql.connector\n",
    "\n",
    "cnx = mysql.connector.connect(user='root', password='1' , host='127.0.0.1', database='lotto_log', port='3306')\n",
    "cursor = cnx.cursor()\n",
    "\n",
    "sns.set()\n",
    "\n",
    "query_01 = (\" SELECT dt, \\\n",
    "                            count(*) as purchase_count, \\\n",
    "                            sum(purchase_amount) as total_amount,\\\n",
    "                            avg(purchase_amount) as avg_amount\\\n",
    "                            FROM `purchase_log`\\\n",
    "                            GROUP BY dt\\\n",
    "                            ORDER BY dt; \")\n",
    "\n",
    "df = pd.read_sql(query_01, con = cnx, index_col='dt')\n",
    "df"
   ]
  },
  {
   "cell_type": "markdown",
   "metadata": {},
   "source": [
    "#### 2 이동 평균을 사용한 날짜별 추이 보기"
   ]
  },
  {
   "cell_type": "raw",
   "metadata": {},
   "source": [
    "# 날짜별 매출과 7일 이동평균을 집계하는 쿼리\n",
    "\n",
    "\n",
    "SELECT \n",
    "dt, \n",
    "sum(purchase_amount) as total_amount,\n",
    "AVG(sum(purchase_amount))\n",
    "over(order by dt rows between 6 preseding and current row) as seven_day_avg,\n",
    "case when 7 = count(*) over(over order by rows between 6 preseding and current row)\n",
    "end as sevent_day_avg_strict \n",
    "from purchase_log\n",
    "group by dt\n",
    "order by dt;\n",
    "\n",
    "*mysql 에서는 다른 방식으로 구해야 한다."
   ]
  },
  {
   "cell_type": "markdown",
   "metadata": {},
   "source": [
    "#### 3 당월 매출 누계 구하기"
   ]
  },
  {
   "cell_type": "raw",
   "metadata": {},
   "source": [
    "# 날짜별 매출과 당월 누계 매출을 집계하는 쿼리\n",
    "\n",
    "SELECT\n",
    "dt,\n",
    "substring(dt, 1, 7) as year_month,\n",
    "sum(purchase_amount) as total_amount,\n",
    "sum(sum(purchase_amount))\n",
    "over(partition by substring(dt, 1, 7) order by dt rows unbounded preceding)\n",
    "as agg_amount\n",
    "from `purchase_log`\n",
    "group by dt\n",
    "order by;\n",
    "\n",
    "*mysql 에서는 다른 방식으로 구해야 한다."
   ]
  },
  {
   "cell_type": "raw",
   "metadata": {},
   "source": [
    "# 날짜별 매출을 일시 테이블로 만드는 쿼리\n",
    "\n",
    "WITH daily_purchase as(select\n",
    "dt, \n",
    "substring(dt, 1, 4) as year,\n",
    "substring(dt, 6, 2) as month,\n",
    "substring(dt, 9, 2) as day,\n",
    "sum(purchase_amount) as purchase_amount\n",
    "from purchase_log\n",
    "group by dt\n",
    ")\n",
    "select * from daily_pruchase\n",
    "order by dt;\n",
    "\n",
    "*mysql //\n",
    "select\n",
    "dt, \n",
    "left(dt, 4) as year,\n",
    "mid(dt, 6, 2) as month,\n",
    "right(dt, 2) as day,\n",
    "sum(purchase_amount) as purchase_amount\n",
    "from purchase_log\n",
    "group by dt"
   ]
  },
  {
   "cell_type": "raw",
   "metadata": {},
   "source": [
    "# 누계를 구하는 쿼리 \n",
    "\n",
    "WITH\n",
    "daily_purchase as (\n",
    "(이전 쿼리)\n",
    ")\n",
    "SELECT dt, \n",
    "concat(year, '-', month) as year_month\n",
    "purchase_amount,\n",
    "sum(purchase_amount) over (partition by year, month order by dt rows unbounded preceding) as agg_amount \n",
    "from daily_purchase\n",
    "order by dt;\n"
   ]
  },
  {
   "cell_type": "markdown",
   "metadata": {},
   "source": [
    "#### 4 월별 매출의 작대비 구하기"
   ]
  },
  {
   "cell_type": "raw",
   "metadata": {},
   "source": [
    "#월별 매출과 작대비를 계산하는 쿼리\n",
    "\n",
    "WITH daily_purchase as (\n",
    "[이전 쿼리]\n",
    ")\n",
    "SELECT \n",
    "month, \n",
    "sum(case year when '2014' then purchase_amount end) as amount_2014,\n",
    "sum(case year when '2015' then purchase_amount end) as amount_2015,\n",
    "100.0\n",
    "* sum(case year when '2015' then purchase_amound end) \n",
    "/ sum(case year when '2014' then purchase_amount end) as rate\n",
    "from daily_purchase\n",
    "group by month,\n",
    "order by month;"
   ]
  },
  {
   "cell_type": "markdown",
   "metadata": {},
   "source": [
    "#### 5 Z 차트로 업적의 추이 확인하기"
   ]
  },
  {
   "cell_type": "markdown",
   "metadata": {},
   "source": [
    "- Z 차트 : 월차매출, 매출 누계, 이동년계 지표가 필요\n",
    "- Z 차트를 분석할 때으 정리\n",
    "매출누계에서 주목할 점 : 매출이 일정하면 직선, 기울기가 급하면 증가, 완만해지면 감소.\n",
    "작년과 올해의 매출이 일정하면 이동년계가 직선, 우상향은 증가, 우하향은 감소."
   ]
  },
  {
   "cell_type": "markdown",
   "metadata": {},
   "source": [
    "#### 6 매출을 파악할 때 중요 포인트"
   ]
  },
  {
   "cell_type": "markdown",
   "metadata": {},
   "source": [
    "매출 상/하락에 관한 본질적 이유에 대한 질문을 던질 필요가 있음."
   ]
  },
  {
   "cell_type": "markdown",
   "metadata": {},
   "source": [
    "### 10강 다면적인 축을 사용해 데이터 집약하기"
   ]
  },
  {
   "cell_type": "markdown",
   "metadata": {},
   "source": [
    "#### 1 카테고리별 매출과 소계 계산하기"
   ]
  },
  {
   "cell_type": "raw",
   "metadata": {},
   "source": [
    "# 카테고리별 매출과 소계를 동시에 구하는 쿼리 \n",
    "\n",
    "select `category`, `sub_category`, sum(price) from purchase_detail_log \n",
    "where 1 \n",
    "group by `category`, `sub_category` with rollup;\n",
    "\n",
    "* mysql 에서는 with rollup 을 사용할 수 있다."
   ]
  },
  {
   "cell_type": "markdown",
   "metadata": {},
   "source": [
    "#### 2 ABC 분석으로 잘 팔리는 상품 판별하기"
   ]
  },
  {
   "cell_type": "raw",
   "metadata": {},
   "source": [
    "1) 매출이 높은 순서로 데이터를 정렬\n",
    "2) 매출 합계를 집계\n",
    "3) 매출 합계를 기반으로 각 데이터가 차지하는 비율을 계싼하고, 구성비를 구함\n",
    "4) 계산한 카테고리의 구성비를 기반으로 구성비누계를 구함\n",
    "(카테고리의 매출과 해당 시점까지으 누계를 따로 계산하고, 총 매출로 나누면 구성비누계를 구할 수 있음)"
   ]
  },
  {
   "cell_type": "markdown",
   "metadata": {},
   "source": [
    "#### 3 팬 차트로 상품의 매출 증가율 확인하기"
   ]
  },
  {
   "cell_type": "raw",
   "metadata": {},
   "source": [
    "팬 차트 : 어떤 기준 시점을 100%로 두고 이후의 숫자 변동을 확인할 수 있게 해주는 그래프"
   ]
  },
  {
   "cell_type": "markdown",
   "metadata": {},
   "source": [
    "#### 4 히스토그램으로 구매 가격대 집계하기"
   ]
  },
  {
   "cell_type": "raw",
   "metadata": {},
   "source": [
    "히스토그램 만드는 법\n",
    "1) 최대값, 최소값 범위(최대값 - 최소값)을 구함\n",
    "2) 범위를 기반으로 몇 개으 ㅣ계급으로 나눌지 결정하고, 각 계급의 하한과 하한을 구함\n",
    "3) 각 계급에 들어가는 데이터 개수(도수)를 구하고, 이를 표로 정리한다."
   ]
  }
 ],
 "metadata": {
  "kernelspec": {
   "display_name": "Python 3",
   "language": "python",
   "name": "python3"
  },
  "language_info": {
   "codemirror_mode": {
    "name": "ipython",
    "version": 3
   },
   "file_extension": ".py",
   "mimetype": "text/x-python",
   "name": "python",
   "nbconvert_exporter": "python",
   "pygments_lexer": "ipython3",
   "version": "3.6.5"
  }
 },
 "nbformat": 4,
 "nbformat_minor": 2
}
